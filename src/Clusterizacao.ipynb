{
 "cells": [
  {
   "metadata": {},
   "cell_type": "markdown",
   "source": "# Variáveis",
   "id": "5cb6c10b25f47e04"
  },
  {
   "metadata": {},
   "cell_type": "code",
   "outputs": [],
   "execution_count": null,
   "source": [
    "from libs.mgi_libs.azure.storage import Storage\n",
    "\n",
    "storage_log = Storage(\"files/sipe-u-log-hist-ate-2025\")\n",
    "storage_pefil = Storage(\"files/perfil\")\n",
    "limit = 10000\n",
    "random_seed = 42\n",
    "storage_log"
   ],
   "id": "4a16b68ddf4aa5bd"
  },
  {
   "cell_type": "code",
   "execution_count": null,
   "id": "initial_id",
   "metadata": {
    "collapsed": true
   },
   "outputs": [],
   "source": [
    "import json\n",
    "graph_file = storage_pefil.get_path(\"graph.json\")\n",
    "\n",
    "with open(graph_file, 'r') as arquivo:\n",
    "    graph = json.load(arquivo)\n",
    "\n",
    "print(graph)"
   ]
  },
  {
   "metadata": {},
   "cell_type": "code",
   "outputs": [],
   "execution_count": null,
   "source": [
    "import graphviz\n",
    "\n",
    "\n",
    "for sistema in graph:\n",
    "    dot = graphviz.Digraph(comment='Autorizações')\n",
    "    for origem in graph[sistema]:\n",
    "        # label = origem[:-20]\n",
    "        dot.node(origem, label=origem)\n",
    "        for destino in graph[sistema][origem]:\n",
    "            dot.node(destino, label=destino)\n",
    "            dot.edge(origem, destino, label=\"%d\" % graph[sistema][origem][destino])\n",
    "    dot.render(f'autoriza_{sistema}.dot')  # Renderizar e abrir a imagem\n",
    "\n",
    "# print(dot.source)  # Visualizar o código DOT\n",
    "\n"
   ],
   "id": "b4461c2c61ab7528"
  }
 ],
 "metadata": {
  "kernelspec": {
   "display_name": "Python 3",
   "language": "python",
   "name": "python3"
  },
  "language_info": {
   "codemirror_mode": {
    "name": "ipython",
    "version": 2
   },
   "file_extension": ".py",
   "mimetype": "text/x-python",
   "name": "python",
   "nbconvert_exporter": "python",
   "pygments_lexer": "ipython2",
   "version": "2.7.6"
  }
 },
 "nbformat": 4,
 "nbformat_minor": 5
}
